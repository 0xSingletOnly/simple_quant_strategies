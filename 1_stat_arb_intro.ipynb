{
 "cells": [
  {
   "cell_type": "markdown",
   "id": "72d8c4aa",
   "metadata": {},
   "source": [
    "# Introduction to Stat Arb\n",
    "This notebook covers my initial learnings for implementing statistical arbitrage strategies in crypto. We will be using two assets- ETH and SOL."
   ]
  },
  {
   "cell_type": "markdown",
   "id": "3a72e31f",
   "metadata": {},
   "source": [
    "## Setup- Retrieving data etc"
   ]
  },
  {
   "cell_type": "code",
   "execution_count": 3,
   "id": "a3496310",
   "metadata": {},
   "outputs": [],
   "source": [
    "import ccxt\n",
    "import pandas as pd\n",
    "import numpy as np\n",
    "import matplotlib.pyplot as plt\n",
    "from statsmodels.tsa.stattools import adfuller, acf, pacf\n",
    "from statsmodels.graphics.tsaplots import plot_acf, plot_pacf\n",
    "import warnings\n",
    "warnings.filterwarnings(\"ignore\")"
   ]
  },
  {
   "cell_type": "code",
   "execution_count": 4,
   "id": "69e7bfb7",
   "metadata": {},
   "outputs": [],
   "source": [
    "# --- CONFIGURATION ---\n",
    "EXCHANGE_ID = 'binance'\n",
    "SYMBOL_1 = 'ETH/USDT'\n",
    "SYMBOL_2 = 'SOL/USDT'\n",
    "TIMEFRAME = '1h'\n",
    "LIMIT = 1000  # Number of data points (e.g., 1000 hours)"
   ]
  },
  {
   "cell_type": "code",
   "execution_count": 5,
   "id": "645af70f",
   "metadata": {},
   "outputs": [],
   "source": [
    "# Initialize Exchange\n",
    "exchange = ccxt.binance()"
   ]
  },
  {
   "cell_type": "code",
   "execution_count": 6,
   "id": "00d3d920",
   "metadata": {},
   "outputs": [],
   "source": [
    "def fetch_data(symbol, timeframe, limit):\n",
    "    \"\"\"Fetches OHLCV data and returns a DataFrame of closing prices.\"\"\"\n",
    "    print(f\"Fetching {symbol} data...\")\n",
    "    ohlcv = exchange.fetch_ohlcv(symbol, timeframe=timeframe, limit=limit)\n",
    "    df = pd.DataFrame(ohlcv, columns=['timestamp', 'open', 'high', 'low', 'close', 'volume'])\n",
    "    df['timestamp'] = pd.to_datetime(df['timestamp'], unit='ms')\n",
    "    df.set_index('timestamp', inplace=True)\n",
    "    return df['close']"
   ]
  },
  {
   "cell_type": "code",
   "execution_count": 7,
   "id": "cbba9e6b",
   "metadata": {},
   "outputs": [
    {
     "name": "stdout",
     "output_type": "stream",
     "text": [
      "Fetching ETH/USDT data...\n",
      "Fetching SOL/USDT data...\n"
     ]
    }
   ],
   "source": [
    "eth_prices = fetch_data(SYMBOL_1, TIMEFRAME, LIMIT)\n",
    "sol_prices = fetch_data(SYMBOL_2, TIMEFRAME, LIMIT)"
   ]
  },
  {
   "cell_type": "code",
   "execution_count": 8,
   "id": "31feb88a",
   "metadata": {},
   "outputs": [
    {
     "data": {
      "text/plain": [
       "(timestamp\n",
       " 2025-09-13 22:00:00    4658.53\n",
       " 2025-09-13 23:00:00    4666.53\n",
       " 2025-09-14 00:00:00    4670.27\n",
       " 2025-09-14 01:00:00    4673.13\n",
       " 2025-09-14 02:00:00    4683.16\n",
       "                         ...   \n",
       " 2025-10-25 09:00:00    3942.49\n",
       " 2025-10-25 10:00:00    3942.56\n",
       " 2025-10-25 11:00:00    3940.31\n",
       " 2025-10-25 12:00:00    3953.37\n",
       " 2025-10-25 13:00:00    3936.49\n",
       " Name: close, Length: 1000, dtype: float64,\n",
       " timestamp\n",
       " 2025-09-13 22:00:00    241.89\n",
       " 2025-09-13 23:00:00    242.38\n",
       " 2025-09-14 00:00:00    243.50\n",
       " 2025-09-14 01:00:00    245.79\n",
       " 2025-09-14 02:00:00    248.68\n",
       "                         ...  \n",
       " 2025-10-25 09:00:00    192.58\n",
       " 2025-10-25 10:00:00    192.00\n",
       " 2025-10-25 11:00:00    192.71\n",
       " 2025-10-25 12:00:00    193.91\n",
       " 2025-10-25 13:00:00    192.78\n",
       " Name: close, Length: 1000, dtype: float64)"
      ]
     },
     "execution_count": 8,
     "metadata": {},
     "output_type": "execute_result"
    }
   ],
   "source": [
    "eth_prices, sol_prices"
   ]
  },
  {
   "cell_type": "code",
   "execution_count": 9,
   "id": "b13597fa",
   "metadata": {},
   "outputs": [
    {
     "data": {
      "text/html": [
       "<div>\n",
       "<style scoped>\n",
       "    .dataframe tbody tr th:only-of-type {\n",
       "        vertical-align: middle;\n",
       "    }\n",
       "\n",
       "    .dataframe tbody tr th {\n",
       "        vertical-align: top;\n",
       "    }\n",
       "\n",
       "    .dataframe thead th {\n",
       "        text-align: right;\n",
       "    }\n",
       "</style>\n",
       "<table border=\"1\" class=\"dataframe\">\n",
       "  <thead>\n",
       "    <tr style=\"text-align: right;\">\n",
       "      <th></th>\n",
       "      <th>ETH_Price</th>\n",
       "      <th>SOL_Price</th>\n",
       "    </tr>\n",
       "    <tr>\n",
       "      <th>timestamp</th>\n",
       "      <th></th>\n",
       "      <th></th>\n",
       "    </tr>\n",
       "  </thead>\n",
       "  <tbody>\n",
       "    <tr>\n",
       "      <th>2025-09-13 22:00:00</th>\n",
       "      <td>4658.53</td>\n",
       "      <td>241.89</td>\n",
       "    </tr>\n",
       "    <tr>\n",
       "      <th>2025-09-13 23:00:00</th>\n",
       "      <td>4666.53</td>\n",
       "      <td>242.38</td>\n",
       "    </tr>\n",
       "    <tr>\n",
       "      <th>2025-09-14 00:00:00</th>\n",
       "      <td>4670.27</td>\n",
       "      <td>243.50</td>\n",
       "    </tr>\n",
       "    <tr>\n",
       "      <th>2025-09-14 01:00:00</th>\n",
       "      <td>4673.13</td>\n",
       "      <td>245.79</td>\n",
       "    </tr>\n",
       "    <tr>\n",
       "      <th>2025-09-14 02:00:00</th>\n",
       "      <td>4683.16</td>\n",
       "      <td>248.68</td>\n",
       "    </tr>\n",
       "    <tr>\n",
       "      <th>...</th>\n",
       "      <td>...</td>\n",
       "      <td>...</td>\n",
       "    </tr>\n",
       "    <tr>\n",
       "      <th>2025-10-25 09:00:00</th>\n",
       "      <td>3942.49</td>\n",
       "      <td>192.58</td>\n",
       "    </tr>\n",
       "    <tr>\n",
       "      <th>2025-10-25 10:00:00</th>\n",
       "      <td>3942.56</td>\n",
       "      <td>192.00</td>\n",
       "    </tr>\n",
       "    <tr>\n",
       "      <th>2025-10-25 11:00:00</th>\n",
       "      <td>3940.31</td>\n",
       "      <td>192.71</td>\n",
       "    </tr>\n",
       "    <tr>\n",
       "      <th>2025-10-25 12:00:00</th>\n",
       "      <td>3953.37</td>\n",
       "      <td>193.91</td>\n",
       "    </tr>\n",
       "    <tr>\n",
       "      <th>2025-10-25 13:00:00</th>\n",
       "      <td>3936.49</td>\n",
       "      <td>192.78</td>\n",
       "    </tr>\n",
       "  </tbody>\n",
       "</table>\n",
       "<p>1000 rows × 2 columns</p>\n",
       "</div>"
      ],
      "text/plain": [
       "                     ETH_Price  SOL_Price\n",
       "timestamp                                \n",
       "2025-09-13 22:00:00    4658.53     241.89\n",
       "2025-09-13 23:00:00    4666.53     242.38\n",
       "2025-09-14 00:00:00    4670.27     243.50\n",
       "2025-09-14 01:00:00    4673.13     245.79\n",
       "2025-09-14 02:00:00    4683.16     248.68\n",
       "...                        ...        ...\n",
       "2025-10-25 09:00:00    3942.49     192.58\n",
       "2025-10-25 10:00:00    3942.56     192.00\n",
       "2025-10-25 11:00:00    3940.31     192.71\n",
       "2025-10-25 12:00:00    3953.37     193.91\n",
       "2025-10-25 13:00:00    3936.49     192.78\n",
       "\n",
       "[1000 rows x 2 columns]"
      ]
     },
     "execution_count": 9,
     "metadata": {},
     "output_type": "execute_result"
    }
   ],
   "source": [
    "# Combine and align data (important as timestamps might slightly differ)\n",
    "data = pd.concat([eth_prices, sol_prices], axis=1).dropna()\n",
    "data.columns = ['ETH_Price', 'SOL_Price']\n",
    "data"
   ]
  },
  {
   "cell_type": "code",
   "execution_count": 10,
   "id": "0196a1ac",
   "metadata": {},
   "outputs": [
    {
     "data": {
      "text/html": [
       "<div>\n",
       "<style scoped>\n",
       "    .dataframe tbody tr th:only-of-type {\n",
       "        vertical-align: middle;\n",
       "    }\n",
       "\n",
       "    .dataframe tbody tr th {\n",
       "        vertical-align: top;\n",
       "    }\n",
       "\n",
       "    .dataframe thead th {\n",
       "        text-align: right;\n",
       "    }\n",
       "</style>\n",
       "<table border=\"1\" class=\"dataframe\">\n",
       "  <thead>\n",
       "    <tr style=\"text-align: right;\">\n",
       "      <th></th>\n",
       "      <th>ETH_Price</th>\n",
       "      <th>SOL_Price</th>\n",
       "      <th>Log_ETH</th>\n",
       "      <th>Log_SOL</th>\n",
       "    </tr>\n",
       "    <tr>\n",
       "      <th>timestamp</th>\n",
       "      <th></th>\n",
       "      <th></th>\n",
       "      <th></th>\n",
       "      <th></th>\n",
       "    </tr>\n",
       "  </thead>\n",
       "  <tbody>\n",
       "    <tr>\n",
       "      <th>2025-09-13 22:00:00</th>\n",
       "      <td>4658.53</td>\n",
       "      <td>241.89</td>\n",
       "      <td>8.446455</td>\n",
       "      <td>5.488483</td>\n",
       "    </tr>\n",
       "    <tr>\n",
       "      <th>2025-09-13 23:00:00</th>\n",
       "      <td>4666.53</td>\n",
       "      <td>242.38</td>\n",
       "      <td>8.448171</td>\n",
       "      <td>5.490507</td>\n",
       "    </tr>\n",
       "    <tr>\n",
       "      <th>2025-09-14 00:00:00</th>\n",
       "      <td>4670.27</td>\n",
       "      <td>243.50</td>\n",
       "      <td>8.448972</td>\n",
       "      <td>5.495117</td>\n",
       "    </tr>\n",
       "    <tr>\n",
       "      <th>2025-09-14 01:00:00</th>\n",
       "      <td>4673.13</td>\n",
       "      <td>245.79</td>\n",
       "      <td>8.449584</td>\n",
       "      <td>5.504478</td>\n",
       "    </tr>\n",
       "    <tr>\n",
       "      <th>2025-09-14 02:00:00</th>\n",
       "      <td>4683.16</td>\n",
       "      <td>248.68</td>\n",
       "      <td>8.451728</td>\n",
       "      <td>5.516167</td>\n",
       "    </tr>\n",
       "    <tr>\n",
       "      <th>...</th>\n",
       "      <td>...</td>\n",
       "      <td>...</td>\n",
       "      <td>...</td>\n",
       "      <td>...</td>\n",
       "    </tr>\n",
       "    <tr>\n",
       "      <th>2025-10-25 09:00:00</th>\n",
       "      <td>3942.49</td>\n",
       "      <td>192.58</td>\n",
       "      <td>8.279568</td>\n",
       "      <td>5.260512</td>\n",
       "    </tr>\n",
       "    <tr>\n",
       "      <th>2025-10-25 10:00:00</th>\n",
       "      <td>3942.56</td>\n",
       "      <td>192.00</td>\n",
       "      <td>8.279586</td>\n",
       "      <td>5.257495</td>\n",
       "    </tr>\n",
       "    <tr>\n",
       "      <th>2025-10-25 11:00:00</th>\n",
       "      <td>3940.31</td>\n",
       "      <td>192.71</td>\n",
       "      <td>8.279015</td>\n",
       "      <td>5.261186</td>\n",
       "    </tr>\n",
       "    <tr>\n",
       "      <th>2025-10-25 12:00:00</th>\n",
       "      <td>3953.37</td>\n",
       "      <td>193.91</td>\n",
       "      <td>8.282324</td>\n",
       "      <td>5.267394</td>\n",
       "    </tr>\n",
       "    <tr>\n",
       "      <th>2025-10-25 13:00:00</th>\n",
       "      <td>3936.49</td>\n",
       "      <td>192.78</td>\n",
       "      <td>8.278045</td>\n",
       "      <td>5.261550</td>\n",
       "    </tr>\n",
       "  </tbody>\n",
       "</table>\n",
       "<p>1000 rows × 4 columns</p>\n",
       "</div>"
      ],
      "text/plain": [
       "                     ETH_Price  SOL_Price   Log_ETH   Log_SOL\n",
       "timestamp                                                    \n",
       "2025-09-13 22:00:00    4658.53     241.89  8.446455  5.488483\n",
       "2025-09-13 23:00:00    4666.53     242.38  8.448171  5.490507\n",
       "2025-09-14 00:00:00    4670.27     243.50  8.448972  5.495117\n",
       "2025-09-14 01:00:00    4673.13     245.79  8.449584  5.504478\n",
       "2025-09-14 02:00:00    4683.16     248.68  8.451728  5.516167\n",
       "...                        ...        ...       ...       ...\n",
       "2025-10-25 09:00:00    3942.49     192.58  8.279568  5.260512\n",
       "2025-10-25 10:00:00    3942.56     192.00  8.279586  5.257495\n",
       "2025-10-25 11:00:00    3940.31     192.71  8.279015  5.261186\n",
       "2025-10-25 12:00:00    3953.37     193.91  8.282324  5.267394\n",
       "2025-10-25 13:00:00    3936.49     192.78  8.278045  5.261550\n",
       "\n",
       "[1000 rows x 4 columns]"
      ]
     },
     "execution_count": 10,
     "metadata": {},
     "output_type": "execute_result"
    }
   ],
   "source": [
    "# --- STEP 2: Creating the Stat Arb Spread (Log Ratio) ---\n",
    "# Use log prices to standardize the volatility of returns\n",
    "data['Log_ETH'] = np.log(data['ETH_Price'])\n",
    "data['Log_SOL'] = np.log(data['SOL_Price'])\n",
    "data"
   ]
  },
  {
   "cell_type": "code",
   "execution_count": 11,
   "id": "2c165536",
   "metadata": {},
   "outputs": [
    {
     "data": {
      "text/html": [
       "<div>\n",
       "<style scoped>\n",
       "    .dataframe tbody tr th:only-of-type {\n",
       "        vertical-align: middle;\n",
       "    }\n",
       "\n",
       "    .dataframe tbody tr th {\n",
       "        vertical-align: top;\n",
       "    }\n",
       "\n",
       "    .dataframe thead th {\n",
       "        text-align: right;\n",
       "    }\n",
       "</style>\n",
       "<table border=\"1\" class=\"dataframe\">\n",
       "  <thead>\n",
       "    <tr style=\"text-align: right;\">\n",
       "      <th></th>\n",
       "      <th>ETH_Price</th>\n",
       "      <th>SOL_Price</th>\n",
       "      <th>Log_ETH</th>\n",
       "      <th>Log_SOL</th>\n",
       "      <th>Spread</th>\n",
       "    </tr>\n",
       "    <tr>\n",
       "      <th>timestamp</th>\n",
       "      <th></th>\n",
       "      <th></th>\n",
       "      <th></th>\n",
       "      <th></th>\n",
       "      <th></th>\n",
       "    </tr>\n",
       "  </thead>\n",
       "  <tbody>\n",
       "    <tr>\n",
       "      <th>2025-09-13 22:00:00</th>\n",
       "      <td>4658.53</td>\n",
       "      <td>241.89</td>\n",
       "      <td>8.446455</td>\n",
       "      <td>5.488483</td>\n",
       "      <td>2.957972</td>\n",
       "    </tr>\n",
       "    <tr>\n",
       "      <th>2025-09-13 23:00:00</th>\n",
       "      <td>4666.53</td>\n",
       "      <td>242.38</td>\n",
       "      <td>8.448171</td>\n",
       "      <td>5.490507</td>\n",
       "      <td>2.957664</td>\n",
       "    </tr>\n",
       "    <tr>\n",
       "      <th>2025-09-14 00:00:00</th>\n",
       "      <td>4670.27</td>\n",
       "      <td>243.50</td>\n",
       "      <td>8.448972</td>\n",
       "      <td>5.495117</td>\n",
       "      <td>2.953855</td>\n",
       "    </tr>\n",
       "    <tr>\n",
       "      <th>2025-09-14 01:00:00</th>\n",
       "      <td>4673.13</td>\n",
       "      <td>245.79</td>\n",
       "      <td>8.449584</td>\n",
       "      <td>5.504478</td>\n",
       "      <td>2.945107</td>\n",
       "    </tr>\n",
       "    <tr>\n",
       "      <th>2025-09-14 02:00:00</th>\n",
       "      <td>4683.16</td>\n",
       "      <td>248.68</td>\n",
       "      <td>8.451728</td>\n",
       "      <td>5.516167</td>\n",
       "      <td>2.935561</td>\n",
       "    </tr>\n",
       "    <tr>\n",
       "      <th>...</th>\n",
       "      <td>...</td>\n",
       "      <td>...</td>\n",
       "      <td>...</td>\n",
       "      <td>...</td>\n",
       "      <td>...</td>\n",
       "    </tr>\n",
       "    <tr>\n",
       "      <th>2025-10-25 09:00:00</th>\n",
       "      <td>3942.49</td>\n",
       "      <td>192.58</td>\n",
       "      <td>8.279568</td>\n",
       "      <td>5.260512</td>\n",
       "      <td>3.019056</td>\n",
       "    </tr>\n",
       "    <tr>\n",
       "      <th>2025-10-25 10:00:00</th>\n",
       "      <td>3942.56</td>\n",
       "      <td>192.00</td>\n",
       "      <td>8.279586</td>\n",
       "      <td>5.257495</td>\n",
       "      <td>3.022090</td>\n",
       "    </tr>\n",
       "    <tr>\n",
       "      <th>2025-10-25 11:00:00</th>\n",
       "      <td>3940.31</td>\n",
       "      <td>192.71</td>\n",
       "      <td>8.279015</td>\n",
       "      <td>5.261186</td>\n",
       "      <td>3.017828</td>\n",
       "    </tr>\n",
       "    <tr>\n",
       "      <th>2025-10-25 12:00:00</th>\n",
       "      <td>3953.37</td>\n",
       "      <td>193.91</td>\n",
       "      <td>8.282324</td>\n",
       "      <td>5.267394</td>\n",
       "      <td>3.014930</td>\n",
       "    </tr>\n",
       "    <tr>\n",
       "      <th>2025-10-25 13:00:00</th>\n",
       "      <td>3936.49</td>\n",
       "      <td>192.78</td>\n",
       "      <td>8.278045</td>\n",
       "      <td>5.261550</td>\n",
       "      <td>3.016495</td>\n",
       "    </tr>\n",
       "  </tbody>\n",
       "</table>\n",
       "<p>1000 rows × 5 columns</p>\n",
       "</div>"
      ],
      "text/plain": [
       "                     ETH_Price  SOL_Price   Log_ETH   Log_SOL    Spread\n",
       "timestamp                                                              \n",
       "2025-09-13 22:00:00    4658.53     241.89  8.446455  5.488483  2.957972\n",
       "2025-09-13 23:00:00    4666.53     242.38  8.448171  5.490507  2.957664\n",
       "2025-09-14 00:00:00    4670.27     243.50  8.448972  5.495117  2.953855\n",
       "2025-09-14 01:00:00    4673.13     245.79  8.449584  5.504478  2.945107\n",
       "2025-09-14 02:00:00    4683.16     248.68  8.451728  5.516167  2.935561\n",
       "...                        ...        ...       ...       ...       ...\n",
       "2025-10-25 09:00:00    3942.49     192.58  8.279568  5.260512  3.019056\n",
       "2025-10-25 10:00:00    3942.56     192.00  8.279586  5.257495  3.022090\n",
       "2025-10-25 11:00:00    3940.31     192.71  8.279015  5.261186  3.017828\n",
       "2025-10-25 12:00:00    3953.37     193.91  8.282324  5.267394  3.014930\n",
       "2025-10-25 13:00:00    3936.49     192.78  8.278045  5.261550  3.016495\n",
       "\n",
       "[1000 rows x 5 columns]"
      ]
     },
     "execution_count": 11,
     "metadata": {},
     "output_type": "execute_result"
    }
   ],
   "source": [
    "# The Spread (Log ratio) is the difference between log prices\n",
    "# This assumes an ideal hedging ratio of 1:1, a simplification for this demo.\n",
    "data['Spread'] = data['Log_ETH'] - data['Log_SOL']\n",
    "data"
   ]
  },
  {
   "cell_type": "code",
   "execution_count": 12,
   "id": "54db10a4",
   "metadata": {},
   "outputs": [
    {
     "data": {
      "image/png": "[encoded data removed]",
      "text/plain": [
       "<Figure size 1200x600 with 1 Axes>"
      ]
     },
     "metadata": {},
     "output_type": "display_data"
    }
   ],
   "source": [
    "# Plot the Spread to visually inspect for mean reversion\n",
    "plt.figure(figsize=(12, 6))\n",
    "data['Spread'].plot(title=f'Spread (Log Ratio) of {SYMBOL_1} and {SYMBOL_2}')\n",
    "plt.axhline(data['Spread'].mean(), color='red', linestyle='--', label='Mean Spread')\n",
    "plt.legend()\n",
    "plt.show()"
   ]
  },
  {
   "cell_type": "markdown",
   "id": "69583764",
   "metadata": {},
   "source": [
    "## Diagnosing and Achieving Stationarity\n",
    "For statistical arbitrage strategies to work, we need stationarity between the spread of two assets. We need to confirm that the spread is stationary using the Augmented Dickey-Fuller test."
   ]
  },
  {
   "cell_type": "code",
   "execution_count": 13,
   "id": "5013889b",
   "metadata": {},
   "outputs": [],
   "source": [
    "def run_adf_test(series, series_name):\n",
    "    \"\"\"Performs the Augmented Dickey-Fuller Test.\"\"\"\n",
    "    print(\"-\" * 50)\n",
    "    print(f\"Augmented Dickey-Fuller Test for: {series_name}\")\n",
    "    \n",
    "    # Run the test\n",
    "    result = adfuller(series.dropna())\n",
    "    \n",
    "    print(f'ADF Statistic: {result[0]:.4f}')\n",
    "    print(f'p-value: {result[1]:.4f}')\n",
    "    print('Critical Values:')\n",
    "    for key, value in result[4].items():\n",
    "        print(f'\\t{key}: {value:.4f}')\n",
    "\n",
    "    # Decision Logic\n",
    "    if result[1] <= 0.05 and result[0] < result[4]['5%']:\n",
    "        print(\"\\nConclusion: REJECT the Null Hypothesis (Unit Root).\")\n",
    "        print(f\"The series ({series_name}) IS LIKELY STATIONARY (mean-reverting).\")\n",
    "    else:\n",
    "        print(\"\\nConclusion: FAIL TO REJECT the Null Hypothesis (Unit Root).\")\n",
    "        print(f\"The series ({series_name}) IS LIKELY NON-STATIONARY (trending).\")\n",
    "    print(\"-\" * 50)"
   ]
  },
  {
   "cell_type": "code",
   "execution_count": 14,
   "id": "7830fb56",
   "metadata": {},
   "outputs": [
    {
     "name": "stdout",
     "output_type": "stream",
     "text": [
      "--------------------------------------------------\n",
      "Augmented Dickey-Fuller Test for: Log Price of ETH/USDT\n",
      "ADF Statistic: -1.8368\n",
      "p-value: 0.3624\n",
      "Critical Values:\n",
      "\t1%: -3.4369\n",
      "\t5%: -2.8644\n",
      "\t10%: -2.5683\n",
      "\n",
      "Conclusion: FAIL TO REJECT the Null Hypothesis (Unit Root).\n",
      "The series (Log Price of ETH/USDT) IS LIKELY NON-STATIONARY (trending).\n",
      "--------------------------------------------------\n"
     ]
    }
   ],
   "source": [
    "# 1. Test the raw asset (Should be NON-STATIONARY)\n",
    "run_adf_test(data['Log_ETH'], f'Log Price of {SYMBOL_1}')"
   ]
  },
  {
   "cell_type": "code",
   "execution_count": null,
   "id": "4753bb5f",
   "metadata": {},
   "outputs": [
    {
     "name": "stdout",
     "output_type": "stream",
     "text": [
      "--------------------------------------------------\n",
      "Augmented Dickey-Fuller Test for: Pair Spread\n",
      "ADF Statistic: -1.8148\n",
      "p-value: 0.3731\n",
      "Critical Values:\n",
      "\t1%: -3.4369\n",
      "\t5%: -2.8644\n",
      "\t10%: -2.5683\n",
      "\n",
      "Conclusion: FAIL TO REJECT the Null Hypothesis (Unit Root).\n",
      "The series (Pair Spread) IS LIKELY NON-STATIONARY (trending).\n",
      "--------------------------------------------------\n"
     ]
    }
   ],
   "source": [
    "# 2. Test the Spread (This MUST be STATIONARY for Stat Arb)\n",
    "run_adf_test(data['Spread'], 'Pair Spread')"
   ]
  },
  {
   "cell_type": "markdown",
   "id": "3f384a6e",
   "metadata": {},
   "source": [
    "We see that ETH and SOL are likely to be highly correlated, which do not lend them to stat arb. For the purpose of completing this analysis, we will compute their autocorrelation."
   ]
  },
  {
   "cell_type": "markdown",
   "id": "73f40767",
   "metadata": {},
   "source": [
    "## Autocorrelation\n",
    "Autocorrelation is the measure of how much we can predict the mean reverting property between two assets. We need the autocorrelation to be both predictable and fast, so I believe the sweet spot is usually around 0.5.\n",
    "\n",
    "We will use:\n",
    "- Autocorrelation function: measures the correlation between the time series and past values. In an ideal AR(1) spread, we want the autocorrelation to be strong at time lag 1, and it should exponentially decay for longer time spreads.\n",
    "- Partial autocorrelation function: it measures the autocorrelation between two point in time after removing the linear effects of the values in between. \n",
    "\n",
    "We use both measures to see if the autocorrelation occurs at the time lag that we are interested in."
   ]
  },
  {
   "cell_type": "code",
   "execution_count": 16,
   "id": "362689d1",
   "metadata": {},
   "outputs": [
    {
     "data": {
      "image/png": "[encoded data removed]",
      "text/plain": [
       "<Figure size 1500x500 with 2 Axes>"
      ]
     },
     "metadata": {},
     "output_type": "display_data"
    }
   ],
   "source": [
    "fig, axes = plt.subplots(1, 2, figsize=(15, 5))\n",
    "\n",
    "# ACF: Shows correlation with past values (direct and indirect effects)\n",
    "plot_acf(data['Spread'].dropna(), lags=50, ax=axes[0], title='Autocorrelation Function (ACF) of Spread')\n",
    "\n",
    "# PACF: Shows correlation with past values (direct effect only)\n",
    "plot_pacf(data['Spread'].dropna(), lags=50, ax=axes[1], title='Partial Autocorrelation Function (PACF) of Spread')\n",
    "\n",
    "plt.tight_layout()\n",
    "plt.show()"
   ]
  },
  {
   "cell_type": "markdown",
   "id": "1769c0f8",
   "metadata": {},
   "source": [
    "These ACF and PACF plots confirm that the spread between ETH and SOL are non-stationary:\n",
    "- ACF: it should exponentially decay post 1 time period, but this is not the case\n",
    "- PACF: a single dominant spike at lag 1, then drop off to close to 0 for subsequent lags. While this is what we want, unfortunately we cannot analyse PACF in isolation. Instead, we need to first confirm with ACF."
   ]
  },
  {
   "cell_type": "code",
   "execution_count": null,
   "id": "69f9bcb1",
   "metadata": {},
   "outputs": [],
   "source": []
  }
 ],
 "metadata": {
  "kernelspec": {
   "display_name": "simple-quant-strategies",
   "language": "python",
   "name": "python3"
  },
  "language_info": {
   "codemirror_mode": {
    "name": "ipython",
    "version": 3
   },
   "file_extension": ".py",
   "mimetype": "text/x-python",
   "name": "python",
   "nbconvert_exporter": "python",
   "pygments_lexer": "ipython3",
   "version": "3.12.11"
  }
 },
 "nbformat": 4,
 "nbformat_minor": 5
}
