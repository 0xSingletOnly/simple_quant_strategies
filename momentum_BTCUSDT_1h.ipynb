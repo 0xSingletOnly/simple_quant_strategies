{
 "cells": [
  {
   "cell_type": "markdown",
   "metadata": {},
   "source": [
    "# Momentum trading strategy\n",
    "As from Quantitative Trading by Ernest Chan, there are the paradigms of mean reversion vs momentum. I believe that crypto assets are much more momentum based given their speculative nature, and the sheer number of retail traders. \n",
    "\n",
    "I will be implementing that hypothesis in this notebook."
   ]
  },
  {
   "cell_type": "code",
   "execution_count": 26,
   "metadata": {},
   "outputs": [],
   "source": [
    "from dotenv import load_dotenv\n",
    "import os\n",
    "from pathlib import Path\n",
    "\n",
    "import numpy as np\n",
    "import pandas as pd\n",
    "\n",
    "import matplotlib.pyplot as plt\n",
    "import mplfinance as mpf"
   ]
  },
  {
   "cell_type": "code",
   "execution_count": 27,
   "metadata": {},
   "outputs": [
    {
     "data": {
      "text/plain": [
       "False"
      ]
     },
     "execution_count": 27,
     "metadata": {},
     "output_type": "execute_result"
    }
   ],
   "source": [
    "load_dotenv()"
   ]
  },
  {
   "cell_type": "markdown",
   "metadata": {},
   "source": [
    "# Data loading"
   ]
  },
  {
   "cell_type": "code",
   "execution_count": 28,
   "metadata": {},
   "outputs": [],
   "source": [
    "BTCUSDT_FOLDER_PATH = os.getenv(\"BTCUSDT_FOLDER_PATH\")"
   ]
  },
  {
   "cell_type": "code",
   "execution_count": 29,
   "metadata": {},
   "outputs": [],
   "source": [
    "def retrieve_csv_files(directory):\n",
    "    csv_files = []\n",
    "    for file in os.listdir(directory):\n",
    "        if file.endswith('.csv'):\n",
    "            csv_files.append(os.path.join(directory, file))\n",
    "    csv_files.sort()\n",
    "\n",
    "    return csv_files"
   ]
  },
  {
   "cell_type": "code",
   "execution_count": 50,
   "metadata": {},
   "outputs": [
    {
     "data": {
      "text/plain": [
       "[]"
      ]
     },
     "execution_count": 50,
     "metadata": {},
     "output_type": "execute_result"
    }
   ],
   "source": [
    "btcusdt_csv_files = retrieve_csv_files(BTCUSDT_FOLDER_PATH)\n",
    "btcusdt_csv_files"
   ]
  },
  {
   "cell_type": "code",
   "execution_count": 31,
   "metadata": {},
   "outputs": [],
   "source": [
    "columns = [\n",
    "    'open time',\n",
    "    'open',\n",
    "    'high',\n",
    "    'low',\n",
    "    'close',\n",
    "    'volume',\n",
    "    'close time',\n",
    "    'quote asset volume',\n",
    "    'number of trades',\n",
    "    'taker buy base asset volume',\n",
    "    'taker buy quote asset volume',\n",
    "    'ignore'\n",
    "]"
   ]
  },
  {
   "cell_type": "code",
   "execution_count": 32,
   "metadata": {},
   "outputs": [],
   "source": [
    "# have to process these data differently as units of time\n",
    "# changed at the start of 2025\n",
    "df_before_2025 = pd.DataFrame(columns=columns)\n",
    "df_2025 = pd.DataFrame(columns=columns)"
   ]
  },
  {
   "cell_type": "code",
   "execution_count": 33,
   "metadata": {},
   "outputs": [],
   "source": [
    "for file in btcusdt_csv_files:\n",
    "    filename = os.path.basename(file)\n",
    "    temp_df = pd.read_csv(file, names=columns)\n",
    "    if '2024' in filename:\n",
    "        df_before_2025 = pd.concat([df_before_2025, temp_df])\n",
    "    else:\n",
    "        df_2025 = pd.concat([df_2025, temp_df])"
   ]
  },
  {
   "cell_type": "code",
   "execution_count": 34,
   "metadata": {},
   "outputs": [
    {
     "data": {
      "text/plain": [
       "((0, 12), (0, 12))"
      ]
     },
     "execution_count": 34,
     "metadata": {},
     "output_type": "execute_result"
    }
   ],
   "source": [
    "df_before_2025.shape, df_2025.shape"
   ]
  },
  {
   "cell_type": "code",
   "execution_count": 35,
   "metadata": {},
   "outputs": [
    {
     "data": {
      "text/html": [
       "<div>\n",
       "<style scoped>\n",
       "    .dataframe tbody tr th:only-of-type {\n",
       "        vertical-align: middle;\n",
       "    }\n",
       "\n",
       "    .dataframe tbody tr th {\n",
       "        vertical-align: top;\n",
       "    }\n",
       "\n",
       "    .dataframe thead th {\n",
       "        text-align: right;\n",
       "    }\n",
       "</style>\n",
       "<table border=\"1\" class=\"dataframe\">\n",
       "  <thead>\n",
       "    <tr style=\"text-align: right;\">\n",
       "      <th></th>\n",
       "      <th>open time</th>\n",
       "      <th>open</th>\n",
       "      <th>high</th>\n",
       "      <th>low</th>\n",
       "      <th>close</th>\n",
       "      <th>volume</th>\n",
       "      <th>close time</th>\n",
       "      <th>quote asset volume</th>\n",
       "      <th>number of trades</th>\n",
       "      <th>taker buy base asset volume</th>\n",
       "      <th>taker buy quote asset volume</th>\n",
       "      <th>ignore</th>\n",
       "    </tr>\n",
       "  </thead>\n",
       "  <tbody>\n",
       "  </tbody>\n",
       "</table>\n",
       "</div>"
      ],
      "text/plain": [
       "Empty DataFrame\n",
       "Columns: [open time, open, high, low, close, volume, close time, quote asset volume, number of trades, taker buy base asset volume, taker buy quote asset volume, ignore]\n",
       "Index: []"
      ]
     },
     "execution_count": 35,
     "metadata": {},
     "output_type": "execute_result"
    }
   ],
   "source": [
    "df_before_2025"
   ]
  },
  {
   "cell_type": "code",
   "execution_count": 36,
   "metadata": {},
   "outputs": [
    {
     "data": {
      "text/html": [
       "<div>\n",
       "<style scoped>\n",
       "    .dataframe tbody tr th:only-of-type {\n",
       "        vertical-align: middle;\n",
       "    }\n",
       "\n",
       "    .dataframe tbody tr th {\n",
       "        vertical-align: top;\n",
       "    }\n",
       "\n",
       "    .dataframe thead th {\n",
       "        text-align: right;\n",
       "    }\n",
       "</style>\n",
       "<table border=\"1\" class=\"dataframe\">\n",
       "  <thead>\n",
       "    <tr style=\"text-align: right;\">\n",
       "      <th></th>\n",
       "      <th>open time</th>\n",
       "      <th>open</th>\n",
       "      <th>high</th>\n",
       "      <th>low</th>\n",
       "      <th>close</th>\n",
       "      <th>volume</th>\n",
       "      <th>close time</th>\n",
       "      <th>quote asset volume</th>\n",
       "      <th>number of trades</th>\n",
       "      <th>taker buy base asset volume</th>\n",
       "      <th>taker buy quote asset volume</th>\n",
       "      <th>ignore</th>\n",
       "    </tr>\n",
       "  </thead>\n",
       "  <tbody>\n",
       "  </tbody>\n",
       "</table>\n",
       "</div>"
      ],
      "text/plain": [
       "Empty DataFrame\n",
       "Columns: [open time, open, high, low, close, volume, close time, quote asset volume, number of trades, taker buy base asset volume, taker buy quote asset volume, ignore]\n",
       "Index: []"
      ]
     },
     "execution_count": 36,
     "metadata": {},
     "output_type": "execute_result"
    }
   ],
   "source": [
    "df_2025"
   ]
  },
  {
   "cell_type": "code",
   "execution_count": 37,
   "metadata": {},
   "outputs": [],
   "source": [
    "df_before_2025['open_timestamp'] = pd.to_datetime(df_before_2025['open time'], unit='ms')\n",
    "df_before_2025.set_index('open_timestamp', inplace=True)\n",
    "\n",
    "df_2025['open_timestamp'] = pd.to_datetime(df_2025['open time'], unit='us')\n",
    "df_2025.set_index('open_timestamp', inplace=True)"
   ]
  },
  {
   "cell_type": "code",
   "execution_count": 38,
   "metadata": {},
   "outputs": [
    {
     "data": {
      "text/html": [
       "<div>\n",
       "<style scoped>\n",
       "    .dataframe tbody tr th:only-of-type {\n",
       "        vertical-align: middle;\n",
       "    }\n",
       "\n",
       "    .dataframe tbody tr th {\n",
       "        vertical-align: top;\n",
       "    }\n",
       "\n",
       "    .dataframe thead th {\n",
       "        text-align: right;\n",
       "    }\n",
       "</style>\n",
       "<table border=\"1\" class=\"dataframe\">\n",
       "  <thead>\n",
       "    <tr style=\"text-align: right;\">\n",
       "      <th></th>\n",
       "      <th>open time</th>\n",
       "      <th>open</th>\n",
       "      <th>high</th>\n",
       "      <th>low</th>\n",
       "      <th>close</th>\n",
       "      <th>volume</th>\n",
       "      <th>close time</th>\n",
       "      <th>quote asset volume</th>\n",
       "      <th>number of trades</th>\n",
       "      <th>taker buy base asset volume</th>\n",
       "      <th>taker buy quote asset volume</th>\n",
       "      <th>ignore</th>\n",
       "    </tr>\n",
       "    <tr>\n",
       "      <th>open_timestamp</th>\n",
       "      <th></th>\n",
       "      <th></th>\n",
       "      <th></th>\n",
       "      <th></th>\n",
       "      <th></th>\n",
       "      <th></th>\n",
       "      <th></th>\n",
       "      <th></th>\n",
       "      <th></th>\n",
       "      <th></th>\n",
       "      <th></th>\n",
       "      <th></th>\n",
       "    </tr>\n",
       "  </thead>\n",
       "  <tbody>\n",
       "  </tbody>\n",
       "</table>\n",
       "</div>"
      ],
      "text/plain": [
       "Empty DataFrame\n",
       "Columns: [open time, open, high, low, close, volume, close time, quote asset volume, number of trades, taker buy base asset volume, taker buy quote asset volume, ignore]\n",
       "Index: []"
      ]
     },
     "execution_count": 38,
     "metadata": {},
     "output_type": "execute_result"
    }
   ],
   "source": [
    "df = pd.concat([df_before_2025, df_2025])\n",
    "df"
   ]
  },
  {
   "cell_type": "markdown",
   "metadata": {},
   "source": [
    "## Data quality check\n",
    "### Check for missing data"
   ]
  },
  {
   "cell_type": "code",
   "execution_count": 39,
   "metadata": {},
   "outputs": [],
   "source": [
    "time_diff = df.reset_index()['open_timestamp'].diff()\n",
    "\n",
    "expected_interval = pd.Timedelta('1 hour')\n",
    "missing_data = time_diff != expected_interval\n",
    "\n",
    "if missing_data.any():\n",
    "    print('Missing data')\n",
    "    print(time_diff[missing_data])"
   ]
  },
  {
   "cell_type": "code",
   "execution_count": 40,
   "metadata": {},
   "outputs": [
    {
     "name": "stdout",
     "output_type": "stream",
     "text": [
      "Empty DataFrame\n",
      "Columns: [open time, open, high, low, close, volume, close time, quote asset volume, number of trades, taker buy base asset volume, taker buy quote asset volume, ignore]\n",
      "Index: []\n"
     ]
    }
   ],
   "source": [
    "print(df.iloc[2448:2467]) "
   ]
  },
  {
   "cell_type": "markdown",
   "metadata": {},
   "source": [
    "There are 7 hours of missing data on 2024-11-19. We will create a new column called `data_quality` where we flag it to be `pass` or `fail`. We will run our backtest on only those data points where the data quality is `pass`."
   ]
  },
  {
   "cell_type": "code",
   "execution_count": 41,
   "metadata": {},
   "outputs": [],
   "source": [
    "df['data_quality'] = 'pass'\n",
    "\n",
    "gap_start_index = 2448\n",
    "gap_end_index = 2466\n",
    "\n",
    "df.loc[df.index[gap_start_index:gap_end_index], 'data_quality'] = 'fail'"
   ]
  },
  {
   "cell_type": "code",
   "execution_count": 42,
   "metadata": {},
   "outputs": [
    {
     "data": {
      "text/html": [
       "<div>\n",
       "<style scoped>\n",
       "    .dataframe tbody tr th:only-of-type {\n",
       "        vertical-align: middle;\n",
       "    }\n",
       "\n",
       "    .dataframe tbody tr th {\n",
       "        vertical-align: top;\n",
       "    }\n",
       "\n",
       "    .dataframe thead th {\n",
       "        text-align: right;\n",
       "    }\n",
       "</style>\n",
       "<table border=\"1\" class=\"dataframe\">\n",
       "  <thead>\n",
       "    <tr style=\"text-align: right;\">\n",
       "      <th></th>\n",
       "      <th>open time</th>\n",
       "      <th>open</th>\n",
       "      <th>high</th>\n",
       "      <th>low</th>\n",
       "      <th>close</th>\n",
       "      <th>volume</th>\n",
       "      <th>close time</th>\n",
       "      <th>quote asset volume</th>\n",
       "      <th>number of trades</th>\n",
       "      <th>taker buy base asset volume</th>\n",
       "      <th>taker buy quote asset volume</th>\n",
       "      <th>ignore</th>\n",
       "      <th>data_quality</th>\n",
       "    </tr>\n",
       "    <tr>\n",
       "      <th>open_timestamp</th>\n",
       "      <th></th>\n",
       "      <th></th>\n",
       "      <th></th>\n",
       "      <th></th>\n",
       "      <th></th>\n",
       "      <th></th>\n",
       "      <th></th>\n",
       "      <th></th>\n",
       "      <th></th>\n",
       "      <th></th>\n",
       "      <th></th>\n",
       "      <th></th>\n",
       "      <th></th>\n",
       "    </tr>\n",
       "  </thead>\n",
       "  <tbody>\n",
       "  </tbody>\n",
       "</table>\n",
       "</div>"
      ],
      "text/plain": [
       "Empty DataFrame\n",
       "Columns: [open time, open, high, low, close, volume, close time, quote asset volume, number of trades, taker buy base asset volume, taker buy quote asset volume, ignore, data_quality]\n",
       "Index: []"
      ]
     },
     "execution_count": 42,
     "metadata": {},
     "output_type": "execute_result"
    }
   ],
   "source": [
    "df.iloc[2448:2467]"
   ]
  },
  {
   "cell_type": "markdown",
   "metadata": {},
   "source": [
    "# Momentum trading strategy\n",
    "We will implement momentum trading strategy with lookback and relative strength index. I chose momentum over mean reversion as crypto prices in general follow a very strong 'herd mentality'. Let's test out this hypothesis."
   ]
  },
  {
   "cell_type": "code",
   "execution_count": 43,
   "metadata": {},
   "outputs": [],
   "source": [
    "def calculate_returns(prices):\n",
    "    return prices.pct_change()\n",
    "\n",
    "def calculate_sma(prices, lookback_period):\n",
    "    return prices.rolling(window=lookback_period).mean()\n",
    "\n",
    "def calculate_rsi(prices, periods=14):\n",
    "    delta = prices.diff()\n",
    "    gain = (delta.where(delta > 0, 0)).rolling(window=periods).mean()\n",
    "    loss = (-delta.where(delta < 0, 0)).rolling(window=periods).mean()\n",
    "    rs = gain / loss\n",
    "    return 100 - (100 / (1 + rs))"
   ]
  },
  {
   "cell_type": "code",
   "execution_count": 44,
   "metadata": {},
   "outputs": [],
   "source": [
    "def generate_signals(df, sma, rsi):\n",
    "    \"\"\"\n",
    "    Generate trading signals based on SMA and RSI\n",
    "    \n",
    "    Returns:\n",
    "    Series with values: 1 (buy), -1 (sell), 0 (no position)\n",
    "    \"\"\"\n",
    "    signals = pd.Series(0, index=df.index)\n",
    "    \n",
    "    # Basic momentum signals\n",
    "    signals[df['close'] > sma] = 1  # Buy signal\n",
    "    signals[df['close'] < sma] = -1  # Sell signal\n",
    "    \n",
    "    # Filter signals using RSI\n",
    "    signals[(signals == 1) & (rsi < 30)] = 0  # Remove oversold signals\n",
    "    signals[(signals == -1) & (rsi > 70)] = 0  # Remove overbought signals\n",
    "    \n",
    "    return signals"
   ]
  },
  {
   "cell_type": "code",
   "execution_count": 45,
   "metadata": {},
   "outputs": [],
   "source": [
    "def calculate_strategy_returns(price_returns, signals):\n",
    "    return price_returns * signals.shift(1)\n",
    "\n",
    "def calculate_cumulative_returns(returns):\n",
    "    return (1 + returns).cumprod()"
   ]
  },
  {
   "cell_type": "code",
   "execution_count": 46,
   "metadata": {},
   "outputs": [],
   "source": [
    "def calculate_metrics(strategy_returns, signals):\n",
    "    # Count actual trades when signal changes\n",
    "    signal_changes = signals[signals != signals.shift(1)]\n",
    "    total_trades = len(signal_changes) - 1  # Subtract 1 to exclude the first signal\n",
    "    \n",
    "    # Only count returns when we actually have trades\n",
    "    trade_returns = strategy_returns[signals != 0]  # Only consider returns when we have a position\n",
    "    \n",
    "    winning_trades = len(trade_returns[trade_returns > 0])\n",
    "    losing_trades = len(trade_returns[trade_returns < 0])\n",
    "    \n",
    "    # Win rate should be winning_trades / (winning_trades + losing_trades)\n",
    "    win_rate = winning_trades / (winning_trades + losing_trades) if (winning_trades + losing_trades) > 0 else 0\n",
    "    \n",
    "    returns_std = strategy_returns.std()\n",
    "    sharpe_ratio = (np.sqrt(365 * 24) * strategy_returns.mean() / \n",
    "                   returns_std if returns_std != 0 else 0)\n",
    "    \n",
    "    return {\n",
    "        'Total Trades': total_trades,\n",
    "        'Win Rate': win_rate,\n",
    "        'Sharpe Ratio': sharpe_ratio,\n",
    "        'Final Return': calculate_cumulative_returns(strategy_returns).iloc[-1] - 1\n",
    "    }"
   ]
  },
  {
   "cell_type": "code",
   "execution_count": 47,
   "metadata": {},
   "outputs": [],
   "source": [
    "\n",
    "def implement_momentum_strategy(df, lookback_period=24, rsi_period=14):\n",
    "    \"\"\"\n",
    "    Implement momentum trading strategy\n",
    "    \n",
    "    Parameters:\n",
    "    df: DataFrame with OHLC data\n",
    "    lookback_period: Period for SMA calculation (default: 24 hours)\n",
    "    rsi_period: Period for RSI calculation (default: 14 hours)\n",
    "    \"\"\"\n",
    "    # Filter for valid data\n",
    "    df = df[df['data_quality'] == 'pass'].copy()\n",
    "    \n",
    "    # Calculate indicators\n",
    "    df['returns'] = calculate_returns(df['close'])\n",
    "    df['SMA'] = calculate_sma(df['close'], lookback_period)\n",
    "    df['RSI'] = calculate_rsi(df['close'], rsi_period)\n",
    "    \n",
    "    # Generate signals\n",
    "    df['signal'] = generate_signals(df, df['SMA'], df['RSI'])\n",
    "    \n",
    "    # Calculate returns\n",
    "    df['strategy_returns'] = calculate_strategy_returns(df['returns'], df['signal'])\n",
    "    \n",
    "    # Calculate cumulative returns\n",
    "    df['cumulative_returns'] = calculate_cumulative_returns(df['returns'])\n",
    "    df['strategy_cumulative_returns'] = calculate_cumulative_returns(df['strategy_returns'])\n",
    "    \n",
    "    # Calculate metrics\n",
    "    metrics = calculate_metrics(df['strategy_returns'], df['signal'])\n",
    "    \n",
    "    return df, metrics"
   ]
  },
  {
   "cell_type": "code",
   "execution_count": 48,
   "metadata": {},
   "outputs": [],
   "source": [
    "def run_strategy(df, lookback_period=24, rsi_period=14):\n",
    "    \"\"\"\n",
    "    Run the momentum strategy and print results\n",
    "    \"\"\"\n",
    "    df, metrics = implement_momentum_strategy(df, lookback_period, rsi_period)\n",
    "    \n",
    "    print(\"\\nStrategy Metrics:\")\n",
    "    for key, value in metrics.items():\n",
    "        print(f\"{key}: {value:.4f}\")\n",
    "    \n",
    "    return df, metrics"
   ]
  },
  {
   "cell_type": "code",
   "execution_count": 49,
   "metadata": {},
   "outputs": [
    {
     "ename": "IndexError",
     "evalue": "single positional indexer is out-of-bounds",
     "output_type": "error",
     "traceback": [
      "\u001b[0;31m---------------------------------------------------------------------------\u001b[0m",
      "\u001b[0;31mIndexError\u001b[0m                                Traceback (most recent call last)",
      "Cell \u001b[0;32mIn[49], line 1\u001b[0m\n\u001b[0;32m----> 1\u001b[0m \u001b[43mrun_strategy\u001b[49m\u001b[43m(\u001b[49m\u001b[43mdf\u001b[49m\u001b[43m)\u001b[49m\n",
      "Cell \u001b[0;32mIn[48], line 5\u001b[0m, in \u001b[0;36mrun_strategy\u001b[0;34m(df, lookback_period, rsi_period)\u001b[0m\n\u001b[1;32m      1\u001b[0m \u001b[38;5;28;01mdef\u001b[39;00m\u001b[38;5;250m \u001b[39m\u001b[38;5;21mrun_strategy\u001b[39m(df, lookback_period\u001b[38;5;241m=\u001b[39m\u001b[38;5;241m24\u001b[39m, rsi_period\u001b[38;5;241m=\u001b[39m\u001b[38;5;241m14\u001b[39m):\n\u001b[1;32m      2\u001b[0m \u001b[38;5;250m    \u001b[39m\u001b[38;5;124;03m\"\"\"\u001b[39;00m\n\u001b[1;32m      3\u001b[0m \u001b[38;5;124;03m    Run the momentum strategy and print results\u001b[39;00m\n\u001b[1;32m      4\u001b[0m \u001b[38;5;124;03m    \"\"\"\u001b[39;00m\n\u001b[0;32m----> 5\u001b[0m     df, metrics \u001b[38;5;241m=\u001b[39m \u001b[43mimplement_momentum_strategy\u001b[49m\u001b[43m(\u001b[49m\u001b[43mdf\u001b[49m\u001b[43m,\u001b[49m\u001b[43m \u001b[49m\u001b[43mlookback_period\u001b[49m\u001b[43m,\u001b[49m\u001b[43m \u001b[49m\u001b[43mrsi_period\u001b[49m\u001b[43m)\u001b[49m\n\u001b[1;32m      7\u001b[0m     \u001b[38;5;28mprint\u001b[39m(\u001b[38;5;124m\"\u001b[39m\u001b[38;5;130;01m\\n\u001b[39;00m\u001b[38;5;124mStrategy Metrics:\u001b[39m\u001b[38;5;124m\"\u001b[39m)\n\u001b[1;32m      8\u001b[0m     \u001b[38;5;28;01mfor\u001b[39;00m key, value \u001b[38;5;129;01min\u001b[39;00m metrics\u001b[38;5;241m.\u001b[39mitems():\n",
      "Cell \u001b[0;32mIn[47], line 29\u001b[0m, in \u001b[0;36mimplement_momentum_strategy\u001b[0;34m(df, lookback_period, rsi_period)\u001b[0m\n\u001b[1;32m     26\u001b[0m df[\u001b[38;5;124m'\u001b[39m\u001b[38;5;124mstrategy_cumulative_returns\u001b[39m\u001b[38;5;124m'\u001b[39m] \u001b[38;5;241m=\u001b[39m calculate_cumulative_returns(df[\u001b[38;5;124m'\u001b[39m\u001b[38;5;124mstrategy_returns\u001b[39m\u001b[38;5;124m'\u001b[39m])\n\u001b[1;32m     28\u001b[0m \u001b[38;5;66;03m# Calculate metrics\u001b[39;00m\n\u001b[0;32m---> 29\u001b[0m metrics \u001b[38;5;241m=\u001b[39m \u001b[43mcalculate_metrics\u001b[49m\u001b[43m(\u001b[49m\u001b[43mdf\u001b[49m\u001b[43m[\u001b[49m\u001b[38;5;124;43m'\u001b[39;49m\u001b[38;5;124;43mstrategy_returns\u001b[39;49m\u001b[38;5;124;43m'\u001b[39;49m\u001b[43m]\u001b[49m\u001b[43m,\u001b[49m\u001b[43m \u001b[49m\u001b[43mdf\u001b[49m\u001b[43m[\u001b[49m\u001b[38;5;124;43m'\u001b[39;49m\u001b[38;5;124;43msignal\u001b[39;49m\u001b[38;5;124;43m'\u001b[39;49m\u001b[43m]\u001b[49m\u001b[43m)\u001b[49m\n\u001b[1;32m     31\u001b[0m \u001b[38;5;28;01mreturn\u001b[39;00m df, metrics\n",
      "Cell \u001b[0;32mIn[46], line 23\u001b[0m, in \u001b[0;36mcalculate_metrics\u001b[0;34m(strategy_returns, signals)\u001b[0m\n\u001b[1;32m     15\u001b[0m returns_std \u001b[38;5;241m=\u001b[39m strategy_returns\u001b[38;5;241m.\u001b[39mstd()\n\u001b[1;32m     16\u001b[0m sharpe_ratio \u001b[38;5;241m=\u001b[39m (np\u001b[38;5;241m.\u001b[39msqrt(\u001b[38;5;241m365\u001b[39m \u001b[38;5;241m*\u001b[39m \u001b[38;5;241m24\u001b[39m) \u001b[38;5;241m*\u001b[39m strategy_returns\u001b[38;5;241m.\u001b[39mmean() \u001b[38;5;241m/\u001b[39m \n\u001b[1;32m     17\u001b[0m                returns_std \u001b[38;5;28;01mif\u001b[39;00m returns_std \u001b[38;5;241m!=\u001b[39m \u001b[38;5;241m0\u001b[39m \u001b[38;5;28;01melse\u001b[39;00m \u001b[38;5;241m0\u001b[39m)\n\u001b[1;32m     19\u001b[0m \u001b[38;5;28;01mreturn\u001b[39;00m {\n\u001b[1;32m     20\u001b[0m     \u001b[38;5;124m'\u001b[39m\u001b[38;5;124mTotal Trades\u001b[39m\u001b[38;5;124m'\u001b[39m: total_trades,\n\u001b[1;32m     21\u001b[0m     \u001b[38;5;124m'\u001b[39m\u001b[38;5;124mWin Rate\u001b[39m\u001b[38;5;124m'\u001b[39m: win_rate,\n\u001b[1;32m     22\u001b[0m     \u001b[38;5;124m'\u001b[39m\u001b[38;5;124mSharpe Ratio\u001b[39m\u001b[38;5;124m'\u001b[39m: sharpe_ratio,\n\u001b[0;32m---> 23\u001b[0m     \u001b[38;5;124m'\u001b[39m\u001b[38;5;124mFinal Return\u001b[39m\u001b[38;5;124m'\u001b[39m: \u001b[43mcalculate_cumulative_returns\u001b[49m\u001b[43m(\u001b[49m\u001b[43mstrategy_returns\u001b[49m\u001b[43m)\u001b[49m\u001b[38;5;241;43m.\u001b[39;49m\u001b[43miloc\u001b[49m\u001b[43m[\u001b[49m\u001b[38;5;241;43m-\u001b[39;49m\u001b[38;5;241;43m1\u001b[39;49m\u001b[43m]\u001b[49m \u001b[38;5;241m-\u001b[39m \u001b[38;5;241m1\u001b[39m\n\u001b[1;32m     24\u001b[0m }\n",
      "File \u001b[0;32m/opt/homebrew/Caskroom/miniforge/base/envs/quant/lib/python3.13/site-packages/pandas/core/indexing.py:1191\u001b[0m, in \u001b[0;36m_LocationIndexer.__getitem__\u001b[0;34m(self, key)\u001b[0m\n\u001b[1;32m   1189\u001b[0m maybe_callable \u001b[38;5;241m=\u001b[39m com\u001b[38;5;241m.\u001b[39mapply_if_callable(key, \u001b[38;5;28mself\u001b[39m\u001b[38;5;241m.\u001b[39mobj)\n\u001b[1;32m   1190\u001b[0m maybe_callable \u001b[38;5;241m=\u001b[39m \u001b[38;5;28mself\u001b[39m\u001b[38;5;241m.\u001b[39m_check_deprecated_callable_usage(key, maybe_callable)\n\u001b[0;32m-> 1191\u001b[0m \u001b[38;5;28;01mreturn\u001b[39;00m \u001b[38;5;28;43mself\u001b[39;49m\u001b[38;5;241;43m.\u001b[39;49m\u001b[43m_getitem_axis\u001b[49m\u001b[43m(\u001b[49m\u001b[43mmaybe_callable\u001b[49m\u001b[43m,\u001b[49m\u001b[43m \u001b[49m\u001b[43maxis\u001b[49m\u001b[38;5;241;43m=\u001b[39;49m\u001b[43maxis\u001b[49m\u001b[43m)\u001b[49m\n",
      "File \u001b[0;32m/opt/homebrew/Caskroom/miniforge/base/envs/quant/lib/python3.13/site-packages/pandas/core/indexing.py:1752\u001b[0m, in \u001b[0;36m_iLocIndexer._getitem_axis\u001b[0;34m(self, key, axis)\u001b[0m\n\u001b[1;32m   1749\u001b[0m     \u001b[38;5;28;01mraise\u001b[39;00m \u001b[38;5;167;01mTypeError\u001b[39;00m(\u001b[38;5;124m\"\u001b[39m\u001b[38;5;124mCannot index by location index with a non-integer key\u001b[39m\u001b[38;5;124m\"\u001b[39m)\n\u001b[1;32m   1751\u001b[0m \u001b[38;5;66;03m# validate the location\u001b[39;00m\n\u001b[0;32m-> 1752\u001b[0m \u001b[38;5;28;43mself\u001b[39;49m\u001b[38;5;241;43m.\u001b[39;49m\u001b[43m_validate_integer\u001b[49m\u001b[43m(\u001b[49m\u001b[43mkey\u001b[49m\u001b[43m,\u001b[49m\u001b[43m \u001b[49m\u001b[43maxis\u001b[49m\u001b[43m)\u001b[49m\n\u001b[1;32m   1754\u001b[0m \u001b[38;5;28;01mreturn\u001b[39;00m \u001b[38;5;28mself\u001b[39m\u001b[38;5;241m.\u001b[39mobj\u001b[38;5;241m.\u001b[39m_ixs(key, axis\u001b[38;5;241m=\u001b[39maxis)\n",
      "File \u001b[0;32m/opt/homebrew/Caskroom/miniforge/base/envs/quant/lib/python3.13/site-packages/pandas/core/indexing.py:1685\u001b[0m, in \u001b[0;36m_iLocIndexer._validate_integer\u001b[0;34m(self, key, axis)\u001b[0m\n\u001b[1;32m   1683\u001b[0m len_axis \u001b[38;5;241m=\u001b[39m \u001b[38;5;28mlen\u001b[39m(\u001b[38;5;28mself\u001b[39m\u001b[38;5;241m.\u001b[39mobj\u001b[38;5;241m.\u001b[39m_get_axis(axis))\n\u001b[1;32m   1684\u001b[0m \u001b[38;5;28;01mif\u001b[39;00m key \u001b[38;5;241m>\u001b[39m\u001b[38;5;241m=\u001b[39m len_axis \u001b[38;5;129;01mor\u001b[39;00m key \u001b[38;5;241m<\u001b[39m \u001b[38;5;241m-\u001b[39mlen_axis:\n\u001b[0;32m-> 1685\u001b[0m     \u001b[38;5;28;01mraise\u001b[39;00m \u001b[38;5;167;01mIndexError\u001b[39;00m(\u001b[38;5;124m\"\u001b[39m\u001b[38;5;124msingle positional indexer is out-of-bounds\u001b[39m\u001b[38;5;124m\"\u001b[39m)\n",
      "\u001b[0;31mIndexError\u001b[0m: single positional indexer is out-of-bounds"
     ]
    }
   ],
   "source": [
    "run_strategy(df)"
   ]
  },
  {
   "cell_type": "code",
   "execution_count": null,
   "metadata": {},
   "outputs": [],
   "source": [
    "def analyze_different_periods(df, lookback_periods=[6, 12, 24], rsi_periods=[14, 21, 28]):\n",
    "    \"\"\"\n",
    "    Analyze strategy performance with different combinations of periods\n",
    "    \"\"\"\n",
    "    results = []\n",
    "    \n",
    "    for lookback in lookback_periods:\n",
    "        for rsi in rsi_periods:\n",
    "            _, metrics = implement_momentum_strategy(df, lookback, rsi)\n",
    "            results.append({\n",
    "                'Lookback Period': lookback,\n",
    "                'RSI Period': rsi,\n",
    "                'Final Return': metrics['Final Return'],\n",
    "                'Sharpe Ratio': metrics['Sharpe Ratio'],\n",
    "                'Win Rate': metrics['Win Rate']\n",
    "            })\n",
    "    \n",
    "    return pd.DataFrame(results)"
   ]
  },
  {
   "cell_type": "code",
   "execution_count": null,
   "metadata": {},
   "outputs": [],
   "source": [
    "def find_optimal_periods(df):\n",
    "    \"\"\"\n",
    "    Test different period combinations and find the best performing ones\n",
    "    \"\"\"\n",
    "    # Test shorter lookback periods\n",
    "    lookback_periods = [4, 6, 8, 12]\n",
    "    rsi_periods = [7, 14, 21]\n",
    "    \n",
    "    results_df = analyze_different_periods(df, lookback_periods, rsi_periods)\n",
    "    \n",
    "    # Sort by Sharpe Ratio (or Final Return, depending on your preference)\n",
    "    results_df = results_df.sort_values('Sharpe Ratio', ascending=False)\n",
    "    \n",
    "    print(\"\\nTop 5 Period Combinations:\")\n",
    "    print(results_df.head())\n",
    "    \n",
    "    return results_df"
   ]
  },
  {
   "cell_type": "code",
   "execution_count": null,
   "metadata": {},
   "outputs": [
    {
     "name": "stdout",
     "output_type": "stream",
     "text": [
      "\n",
      "Top 5 Period Combinations:\n",
      "    Lookback Period  RSI Period  Final Return  Sharpe Ratio  Win Rate\n",
      "7                 8          14     -0.436039     -2.005519  0.475402\n",
      "8                 8          21     -0.440276     -2.037773  0.475047\n",
      "6                 8           7     -0.482860     -2.338488  0.469940\n",
      "11               12          21     -0.507456     -2.530223  0.469947\n",
      "10               12          14     -0.508330     -2.532399  0.469133\n"
     ]
    },
    {
     "data": {
      "text/html": [
       "<div>\n",
       "<style scoped>\n",
       "    .dataframe tbody tr th:only-of-type {\n",
       "        vertical-align: middle;\n",
       "    }\n",
       "\n",
       "    .dataframe tbody tr th {\n",
       "        vertical-align: top;\n",
       "    }\n",
       "\n",
       "    .dataframe thead th {\n",
       "        text-align: right;\n",
       "    }\n",
       "</style>\n",
       "<table border=\"1\" class=\"dataframe\">\n",
       "  <thead>\n",
       "    <tr style=\"text-align: right;\">\n",
       "      <th></th>\n",
       "      <th>Lookback Period</th>\n",
       "      <th>RSI Period</th>\n",
       "      <th>Final Return</th>\n",
       "      <th>Sharpe Ratio</th>\n",
       "      <th>Win Rate</th>\n",
       "    </tr>\n",
       "  </thead>\n",
       "  <tbody>\n",
       "    <tr>\n",
       "      <th>7</th>\n",
       "      <td>8</td>\n",
       "      <td>14</td>\n",
       "      <td>-0.436039</td>\n",
       "      <td>-2.005519</td>\n",
       "      <td>0.475402</td>\n",
       "    </tr>\n",
       "    <tr>\n",
       "      <th>8</th>\n",
       "      <td>8</td>\n",
       "      <td>21</td>\n",
       "      <td>-0.440276</td>\n",
       "      <td>-2.037773</td>\n",
       "      <td>0.475047</td>\n",
       "    </tr>\n",
       "    <tr>\n",
       "      <th>6</th>\n",
       "      <td>8</td>\n",
       "      <td>7</td>\n",
       "      <td>-0.482860</td>\n",
       "      <td>-2.338488</td>\n",
       "      <td>0.469940</td>\n",
       "    </tr>\n",
       "    <tr>\n",
       "      <th>11</th>\n",
       "      <td>12</td>\n",
       "      <td>21</td>\n",
       "      <td>-0.507456</td>\n",
       "      <td>-2.530223</td>\n",
       "      <td>0.469947</td>\n",
       "    </tr>\n",
       "    <tr>\n",
       "      <th>10</th>\n",
       "      <td>12</td>\n",
       "      <td>14</td>\n",
       "      <td>-0.508330</td>\n",
       "      <td>-2.532399</td>\n",
       "      <td>0.469133</td>\n",
       "    </tr>\n",
       "    <tr>\n",
       "      <th>2</th>\n",
       "      <td>4</td>\n",
       "      <td>21</td>\n",
       "      <td>-0.504677</td>\n",
       "      <td>-2.534291</td>\n",
       "      <td>0.475078</td>\n",
       "    </tr>\n",
       "    <tr>\n",
       "      <th>9</th>\n",
       "      <td>12</td>\n",
       "      <td>7</td>\n",
       "      <td>-0.524059</td>\n",
       "      <td>-2.657201</td>\n",
       "      <td>0.466651</td>\n",
       "    </tr>\n",
       "    <tr>\n",
       "      <th>1</th>\n",
       "      <td>4</td>\n",
       "      <td>14</td>\n",
       "      <td>-0.539683</td>\n",
       "      <td>-2.852014</td>\n",
       "      <td>0.476356</td>\n",
       "    </tr>\n",
       "    <tr>\n",
       "      <th>0</th>\n",
       "      <td>4</td>\n",
       "      <td>7</td>\n",
       "      <td>-0.559883</td>\n",
       "      <td>-3.081548</td>\n",
       "      <td>0.481606</td>\n",
       "    </tr>\n",
       "    <tr>\n",
       "      <th>4</th>\n",
       "      <td>6</td>\n",
       "      <td>14</td>\n",
       "      <td>-0.602649</td>\n",
       "      <td>-3.414575</td>\n",
       "      <td>0.471948</td>\n",
       "    </tr>\n",
       "    <tr>\n",
       "      <th>5</th>\n",
       "      <td>6</td>\n",
       "      <td>21</td>\n",
       "      <td>-0.612480</td>\n",
       "      <td>-3.497325</td>\n",
       "      <td>0.470588</td>\n",
       "    </tr>\n",
       "    <tr>\n",
       "      <th>3</th>\n",
       "      <td>6</td>\n",
       "      <td>7</td>\n",
       "      <td>-0.628726</td>\n",
       "      <td>-3.703225</td>\n",
       "      <td>0.472780</td>\n",
       "    </tr>\n",
       "  </tbody>\n",
       "</table>\n",
       "</div>"
      ],
      "text/plain": [
       "    Lookback Period  RSI Period  Final Return  Sharpe Ratio  Win Rate\n",
       "7                 8          14     -0.436039     -2.005519  0.475402\n",
       "8                 8          21     -0.440276     -2.037773  0.475047\n",
       "6                 8           7     -0.482860     -2.338488  0.469940\n",
       "11               12          21     -0.507456     -2.530223  0.469947\n",
       "10               12          14     -0.508330     -2.532399  0.469133\n",
       "2                 4          21     -0.504677     -2.534291  0.475078\n",
       "9                12           7     -0.524059     -2.657201  0.466651\n",
       "1                 4          14     -0.539683     -2.852014  0.476356\n",
       "0                 4           7     -0.559883     -3.081548  0.481606\n",
       "4                 6          14     -0.602649     -3.414575  0.471948\n",
       "5                 6          21     -0.612480     -3.497325  0.470588\n",
       "3                 6           7     -0.628726     -3.703225  0.472780"
      ]
     },
     "execution_count": 28,
     "metadata": {},
     "output_type": "execute_result"
    }
   ],
   "source": [
    "experiment_df = find_optimal_periods(df)\n",
    "experiment_df"
   ]
  },
  {
   "cell_type": "code",
   "execution_count": null,
   "metadata": {},
   "outputs": [],
   "source": []
  }
 ],
 "metadata": {
  "kernelspec": {
   "display_name": "quant",
   "language": "python",
   "name": "python3"
  },
  "language_info": {
   "codemirror_mode": {
    "name": "ipython",
    "version": 3
   },
   "file_extension": ".py",
   "mimetype": "text/x-python",
   "name": "python",
   "nbconvert_exporter": "python",
   "pygments_lexer": "ipython3",
   "version": "3.13.1"
  }
 },
 "nbformat": 4,
 "nbformat_minor": 2
}
